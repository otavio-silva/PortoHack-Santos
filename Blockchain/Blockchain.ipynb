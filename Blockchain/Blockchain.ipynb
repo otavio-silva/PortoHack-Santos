{
 "cells": [
  {
   "cell_type": "markdown",
   "metadata": {},
   "source": [
    "# Integração - <i>Blockchain</i>"
   ]
  },
  {
   "cell_type": "code",
   "execution_count": 1,
   "metadata": {},
   "outputs": [],
   "source": [
    "import os\n",
    "import json\n",
    "import time\n",
    "import threading\n",
    "import subprocess"
   ]
  },
  {
   "cell_type": "code",
   "execution_count": 2,
   "metadata": {},
   "outputs": [],
   "source": [
    "user_name = \"equipe04\"\n",
    "password = \"gvtbxa\""
   ]
  },
  {
   "cell_type": "code",
   "execution_count": 3,
   "metadata": {},
   "outputs": [
    {
     "data": {
      "text/plain": [
       "0"
      ]
     },
     "execution_count": 3,
     "metadata": {},
     "output_type": "execute_result"
    }
   ],
   "source": [
    "subprocess.call([\"rbiconnector\", \"init\"])"
   ]
  },
  {
   "cell_type": "markdown",
   "metadata": {},
   "source": [
    "## Transações Com O Plano De Segurança"
   ]
  },
  {
   "cell_type": "code",
   "execution_count": 4,
   "metadata": {},
   "outputs": [],
   "source": [
    "def f1(t, ps):\n",
    "    l = []\n",
    "    for _ in range(2):\n",
    "        obj = eval(subprocess.check_output([\"rbiconnector\", \"-f\", \"config.json\", \"register\", \"--to\", ps[\"address\"], \"--from\", t[\"address\"], \"--pk\", t[\"privateKey\"],\n",
    "                                            \"--file-metadata\", \"config.json\", \"--file\", \"data.txt\"]))\n",
    "        while obj[\"status\"] == 500:\n",
    "            obj = eval(subprocess.check_output([\"rbiconnector\", \"-f\", \"config.json\", \"register\", \"--to\", ps[\"address\"], \"--from\", t[\"address\"], \"--pk\", t[\"privateKey\"],\n",
    "                                                \"--file-metadata\", \"config.json\", \"--file\", \"data.txt\"]))\n",
    "        l.append(obj)\n",
    "    with open(\".log\", 'a') as f:\n",
    "        for i in l:\n",
    "            f.write(json.dumps(i))\n",
    "            f.write('\\n')"
   ]
  },
  {
   "cell_type": "markdown",
   "metadata": {},
   "source": [
    "## Definição Da Carteira Digital Do Plano De segurança"
   ]
  },
  {
   "cell_type": "code",
   "execution_count": 5,
   "metadata": {},
   "outputs": [],
   "source": [
    "if not os.path.isdir(os.path.join(\"Wallets\", \"Plano De Segurança\")):\n",
    "    subprocess.call([\"rbiconnector\", \"-f\", \"config.json\", \"create-wallet\", \"--output\", os.path.join(\"Wallets\", \"Plano De Segurança\"), \"--name\", \"Plano De Segurança\"])\n",
    "\n",
    "with open(os.path.join(\"Wallets\", \"Plano De Segurança\", \"Plano De Segurança-address.json\"), 'r') as f:\n",
    "    ps = eval(f.read())"
   ]
  },
  {
   "cell_type": "markdown",
   "metadata": {},
   "source": [
    "## Definição Dos Terminais De Exemplo"
   ]
  },
  {
   "cell_type": "code",
   "execution_count": 6,
   "metadata": {},
   "outputs": [],
   "source": [
    "if not os.path.isdir(os.path.join(\"Wallets\", \"Terminal1\")):\n",
    "    subprocess.call([\"rbiconnector\", \"-f\", \"config.json\", \"create-wallet\", \"--output\", os.path.join(\"Wallets\", \"Terminal1\"), \"--name\", \"Terminal1\"])\n",
    "    \n",
    "with open(os.path.join(\"Wallets\", \"Terminal1\", \"Terminal1-address.json\")) as f:\n",
    "    t1 = eval(f.read())"
   ]
  },
  {
   "cell_type": "markdown",
   "metadata": {},
   "source": [
    "if not os.path.isdir(os.path.join(\"Wallets\", \"Terminal2\")):\n",
    "    subprocess.call([\"rbiconnector\", \"-f\", \"config.json\", \"create-wallet\", \"--output\", os.path.join(\"Wallets\", \"Terminal2\"), \"--name\", \"Terminal2\"])\n",
    "    \n",
    "with open(os.path.join(\"Wallets\", \"Terminal2\", \"Terminal2-address.json\")) as f:\n",
    "    t2 = eval(f.read())"
   ]
  },
  {
   "cell_type": "code",
   "execution_count": 8,
   "metadata": {},
   "outputs": [],
   "source": [
    "if not os.path.isdir(os.path.join(\"Wallets\", \"Terminal3\")):\n",
    "    subprocess.call([\"rbiconnector\", \"-f\", \"config.json\", \"create-wallet\", \"--output\", os.path.join(\"Wallets\", \"Terminal3\"), \"--name\", \"Terminal3\"])\n",
    "\n",
    "with open(os.path.join(\"Wallets\", \"Terminal3\", \"Terminal3-address.json\")) as f:\n",
    "    t3 = eval(f.read())"
   ]
  },
  {
   "cell_type": "markdown",
   "metadata": {},
   "source": [
    "## Sincronização Das Carteiras Digitais"
   ]
  },
  {
   "cell_type": "code",
   "execution_count": 9,
   "metadata": {},
   "outputs": [
    {
     "data": {
      "text/plain": [
       "0"
      ]
     },
     "execution_count": 9,
     "metadata": {},
     "output_type": "execute_result"
    }
   ],
   "source": [
    "subprocess.call([\"rbiconnector\", \"-f\", \"config.json\", \"sync-account\", \"--address\", ps[\"address\"], \"--name\", \"Terminal1\", \"--user\", user_name, \"--password\", password])\n",
    "subprocess.call([\"rbiconnector\", \"-f\", \"config.json\", \"sync-account\", \"--address\", t1[\"address\"], \"--name\", \"Terminal1\", \"--user\", user_name, \"--password\", password])\n",
    "subprocess.call([\"rbiconnector\", \"-f\", \"config.json\", \"sync-account\", \"--address\", t2[\"address\"], \"--name\", \"Terminal2\", \"--user\", user_name, \"--password\", password])\n",
    "subprocess.call([\"rbiconnector\", \"-f\", \"config.json\", \"sync-account\", \"--address\", t3[\"address\"], \"--name\", \"Terminal3\", \"--user\", user_name, \"--password\", password])"
   ]
  },
  {
   "cell_type": "markdown",
   "metadata": {},
   "source": [
    "## Realização De Transações Em Paralelo"
   ]
  },
  {
   "cell_type": "code",
   "execution_count": 10,
   "metadata": {},
   "outputs": [],
   "source": [
    "t = [threading.Thread(target=f1, args=(t1, ps)), threading.Thread(target=f1, args=(t2, ps)), threading.Thread(target=f1, args=(t3, ps))]\n",
    "for i in t:\n",
    "    i.start()\n",
    "for i in t:\n",
    "    i.join()"
   ]
  },
  {
   "cell_type": "markdown",
   "metadata": {},
   "source": [
    "## Recuperação Das Transações Pela <i>Blockchain</i>"
   ]
  },
  {
   "cell_type": "code",
   "execution_count": 20,
   "metadata": {},
   "outputs": [
    {
     "name": "stdout",
     "output_type": "stream",
     "text": [
      "0xINCIDENTE:\n",
      "- Incêndio Açúcar\n",
      "- Incêndio Gasolina\n",
      "- Vazamento Óleo Diesel\n",
      "CATEGORIA DO CENÁRIO:\n",
      "- Desprezível\n",
      "- Marginal\n",
      "- Crítico\n",
      "- Catastrófico\n",
      "POSIÇÃO EVENTO:\n",
      "- ÁREA 1\n",
      "- ÁREA 2\n",
      "- ÁREA 3\n",
      "- ÁREA 4\n",
      "RECURSOS NECESSÁRIOS:\n",
      "- Bombeiros\n",
      "- Água\n",
      "- Espuma de CO2\n",
      "- Pó de Mármore\n",
      "POSIÇÃO RECURSOS:\n",
      "- ÁREA 1\n",
      "- ÁREA 2\n",
      "- ÁREA 3\n",
      "- ÁREA 4\n",
      "TEMPO ROTA RECURSO-EVENTO:\n",
      "- 4-1: 15 Min\n",
      "- 3-1: 5 Min\n",
      "0xINCIDENTE:\n",
      "- Incêndio Açúcar\n",
      "- Incêndio Gasolina\n",
      "- Vazamento Óleo Diesel\n",
      "CATEGORIA DO CENÁRIO:\n",
      "- Desprezível\n",
      "- Marginal\n",
      "- Crítico\n",
      "- Catastrófico\n",
      "POSIÇÃO EVENTO:\n",
      "- ÁREA 1\n",
      "- ÁREA 2\n",
      "- ÁREA 3\n",
      "- ÁREA 4\n",
      "RECURSOS NECESSÁRIOS:\n",
      "- Bombeiros\n",
      "- Água\n",
      "- Espuma de CO2\n",
      "- Pó de Mármore\n",
      "POSIÇÃO RECURSOS:\n",
      "- ÁREA 1\n",
      "- ÁREA 2\n",
      "- ÁREA 3\n",
      "- ÁREA 4\n",
      "TEMPO ROTA RECURSO-EVENTO:\n",
      "- 4-1: 15 Min\n",
      "- 3-1: 5 Min\n",
      "0xINCIDENTE:\n",
      "- Incêndio Açúcar\n",
      "- Incêndio Gasolina\n",
      "- Vazamento Óleo Diesel\n",
      "CATEGORIA DO CENÁRIO:\n",
      "- Desprezível\n",
      "- Marginal\n",
      "- Crítico\n",
      "- Catastrófico\n",
      "POSIÇÃO EVENTO:\n",
      "- ÁREA 1\n",
      "- ÁREA 2\n",
      "- ÁREA 3\n",
      "- ÁREA 4\n",
      "RECURSOS NECESSÁRIOS:\n",
      "- Bombeiros\n",
      "- Água\n",
      "- Espuma de CO2\n",
      "- Pó de Mármore\n",
      "POSIÇÃO RECURSOS:\n",
      "- ÁREA 1\n",
      "- ÁREA 2\n",
      "- ÁREA 3\n",
      "- ÁREA 4\n",
      "TEMPO ROTA RECURSO-EVENTO:\n",
      "- 4-1: 15 Min\n",
      "- 3-1: 5 Min\n",
      "0xINCIDENTE:\n",
      "- Incêndio Açúcar\n",
      "- Incêndio Gasolina\n",
      "- Vazamento Óleo Diesel\n",
      "CATEGORIA DO CENÁRIO:\n",
      "- Desprezível\n",
      "- Marginal\n",
      "- Crítico\n",
      "- Catastrófico\n",
      "POSIÇÃO EVENTO:\n",
      "- ÁREA 1\n",
      "- ÁREA 2\n",
      "- ÁREA 3\n",
      "- ÁREA 4\n",
      "RECURSOS NECESSÁRIOS:\n",
      "- Bombeiros\n",
      "- Água\n",
      "- Espuma de CO2\n",
      "- Pó de Mármore\n",
      "POSIÇÃO RECURSOS:\n",
      "- ÁREA 1\n",
      "- ÁREA 2\n",
      "- ÁREA 3\n",
      "- ÁREA 4\n",
      "TEMPO ROTA RECURSO-EVENTO:\n",
      "- 4-1: 15 Min\n",
      "- 3-1: 5 Min\n",
      "0xINCIDENTE:\n",
      "- Incêndio Açúcar\n",
      "- Incêndio Gasolina\n",
      "- Vazamento Óleo Diesel\n",
      "CATEGORIA DO CENÁRIO:\n",
      "- Desprezível\n",
      "- Marginal\n",
      "- Crítico\n",
      "- Catastrófico\n",
      "POSIÇÃO EVENTO:\n",
      "- ÁREA 1\n",
      "- ÁREA 2\n",
      "- ÁREA 3\n",
      "- ÁREA 4\n",
      "RECURSOS NECESSÁRIOS:\n",
      "- Bombeiros\n",
      "- Água\n",
      "- Espuma de CO2\n",
      "- Pó de Mármore\n",
      "POSIÇÃO RECURSOS:\n",
      "- ÁREA 1\n",
      "- ÁREA 2\n",
      "- ÁREA 3\n",
      "- ÁREA 4\n",
      "TEMPO ROTA RECURSO-EVENTO:\n",
      "- 4-1: 15 Min\n",
      "- 3-1: 5 Min\n"
     ]
    }
   ],
   "source": [
    "with open(\".log\", 'r') as f:\n",
    "    for line in f:\n",
    "        hash_ = eval(f.readline())\n",
    "        log = subprocess.check_output([\"rbiconnector\", \"-f\", \"config.json\", \"get-transaction\", \"--tx-hash\", hash_[\"data\"]])\n",
    "        data = eval(log)\n",
    "        print(bytes.fromhex(data[\"data\"][\"input\"][2:]).decode(\"utf-8\"))\n",
    "        #print(data[\"data\"][\"input\"][2:])"
   ]
  },
  {
   "cell_type": "code",
   "execution_count": null,
   "metadata": {},
   "outputs": [],
   "source": []
  }
 ],
 "metadata": {
  "kernelspec": {
   "display_name": "Python 3",
   "language": "python",
   "name": "python3"
  },
  "language_info": {
   "codemirror_mode": {
    "name": "ipython",
    "version": 3
   },
   "file_extension": ".py",
   "mimetype": "text/x-python",
   "name": "python",
   "nbconvert_exporter": "python",
   "pygments_lexer": "ipython3",
   "version": "3.7.5"
  }
 },
 "nbformat": 4,
 "nbformat_minor": 4
}
