{
 "cells": [
  {
   "cell_type": "markdown",
   "metadata": {},
   "source": [
    "# Integração - <i>Blockchain</i>"
   ]
  },
  {
   "cell_type": "code",
   "execution_count": 1,
   "metadata": {},
   "outputs": [],
   "source": [
    "import os\n",
    "import json\n",
    "import time\n",
    "import threading\n",
    "import subprocess"
   ]
  },
  {
   "cell_type": "code",
   "execution_count": 2,
   "metadata": {},
   "outputs": [],
   "source": [
    "user_name = \"equipe04\"\n",
    "password = \"gvtbxa\""
   ]
  },
  {
   "cell_type": "code",
   "execution_count": 3,
   "metadata": {},
   "outputs": [
    {
     "data": {
      "text/plain": [
       "0"
      ]
     },
     "execution_count": 3,
     "metadata": {},
     "output_type": "execute_result"
    }
   ],
   "source": [
    "subprocess.call([\"rbiconnector\", \"init\"])"
   ]
  },
  {
   "cell_type": "markdown",
   "metadata": {},
   "source": [
    "## Transações Com O Plano De Segurança"
   ]
  },
  {
   "cell_type": "code",
   "execution_count": 4,
   "metadata": {},
   "outputs": [],
   "source": [
    "def f1(t, ps):\n",
    "    l = []\n",
    "    for _ in range(2):\n",
    "        obj = eval(subprocess.check_output([\"rbiconnector\", \"-f\", \"config.json\", \"register\", \"--to\", ps[\"address\"], \"--from\", t[\"address\"], \"--pk\", t[\"privateKey\"],\n",
    "                                            \"--file-metadata\", \"config.json\", \"--file\", \"data.txt\"]))\n",
    "        while obj[\"status\"] == 500:\n",
    "            obj = eval(subprocess.check_output([\"rbiconnector\", \"-f\", \"config.json\", \"register\", \"--to\", ps[\"address\"], \"--from\", t[\"address\"], \"--pk\", t[\"privateKey\"],\n",
    "                                                \"--file-metadata\", \"config.json\", \"--file\", \"data.txt\"]))\n",
    "        l.append(obj)\n",
    "    with open(\".log\", 'a') as f:\n",
    "        for i in l:\n",
    "            f.write(json.dumps(i))\n",
    "            f.write('\\n')"
   ]
  },
  {
   "cell_type": "markdown",
   "metadata": {},
   "source": [
    "## Definição Da Carteira Digital Do Plano De segurança"
   ]
  },
  {
   "cell_type": "code",
   "execution_count": 5,
   "metadata": {},
   "outputs": [],
   "source": [
    "if not os.path.isdir(os.path.join(\"Wallets\", \"Plano De Segurança\")):\n",
    "    subprocess.call([\"rbiconnector\", \"-f\", \"config.json\", \"create-wallet\", \"--output\", os.path.join(\"Wallets\", \"Plano De Segurança\"), \"--name\", \"Plano De Segurança\"])\n",
    "\n",
    "with open(os.path.join(\"Wallets\", \"Plano De Segurança\", \"Plano De Segurança-address.json\"), 'r') as f:\n",
    "    ps = eval(f.read())"
   ]
  },
  {
   "cell_type": "markdown",
   "metadata": {},
   "source": [
    "## Definição Dos Terminais De Exemplo"
   ]
  },
  {
   "cell_type": "code",
   "execution_count": 6,
   "metadata": {},
   "outputs": [],
   "source": [
    "if not os.path.isdir(os.path.join(\"Wallets\", \"Terminal1\")):\n",
    "    subprocess.call([\"rbiconnector\", \"-f\", \"config.json\", \"create-wallet\", \"--output\", os.path.join(\"Wallets\", \"Terminal1\"), \"--name\", \"Terminal1\"])\n",
    "    \n",
    "with open(os.path.join(\"Wallets\", \"Terminal1\", \"Terminal1-address.json\")) as f:\n",
    "    t1 = eval(f.read())"
   ]
  },
  {
   "cell_type": "code",
   "execution_count": 7,
   "metadata": {},
   "outputs": [],
   "source": [
    "if not os.path.isdir(os.path.join(\"Wallets\", \"Terminal2\")):\n",
    "    subprocess.call([\"rbiconnector\", \"-f\", \"config.json\", \"create-wallet\", \"--output\", os.path.join(\"Wallets\", \"Terminal2\"), \"--name\", \"Terminal2\"])\n",
    "    \n",
    "with open(os.path.join(\"Wallets\", \"Terminal2\", \"Terminal2-address.json\")) as f:\n",
    "    t2 = eval(f.read())"
   ]
  },
  {
   "cell_type": "code",
   "execution_count": 8,
   "metadata": {},
   "outputs": [],
   "source": [
    "if not os.path.isdir(os.path.join(\"Wallets\", \"Terminal3\")):\n",
    "    subprocess.call([\"rbiconnector\", \"-f\", \"config.json\", \"create-wallet\", \"--output\", os.path.join(\"Wallets\", \"Terminal3\"), \"--name\", \"Terminal3\"])\n",
    "\n",
    "with open(os.path.join(\"Wallets\", \"Terminal3\", \"Terminal3-address.json\")) as f:\n",
    "    t3 = eval(f.read())"
   ]
  },
  {
   "cell_type": "markdown",
   "metadata": {},
   "source": [
    "## Sincronização Das Carteiras Digitais"
   ]
  },
  {
   "cell_type": "code",
   "execution_count": 9,
   "metadata": {},
   "outputs": [
    {
     "data": {
      "text/plain": [
       "0"
      ]
     },
     "execution_count": 9,
     "metadata": {},
     "output_type": "execute_result"
    }
   ],
   "source": [
    "subprocess.call([\"rbiconnector\", \"-f\", \"config.json\", \"sync-account\", \"--address\", ps[\"address\"], \"--name\", \"Terminal1\", \"--user\", user_name, \"--password\", password])\n",
    "subprocess.call([\"rbiconnector\", \"-f\", \"config.json\", \"sync-account\", \"--address\", t1[\"address\"], \"--name\", \"Terminal1\", \"--user\", user_name, \"--password\", password])\n",
    "subprocess.call([\"rbiconnector\", \"-f\", \"config.json\", \"sync-account\", \"--address\", t2[\"address\"], \"--name\", \"Terminal2\", \"--user\", user_name, \"--password\", password])\n",
    "subprocess.call([\"rbiconnector\", \"-f\", \"config.json\", \"sync-account\", \"--address\", t3[\"address\"], \"--name\", \"Terminal3\", \"--user\", user_name, \"--password\", password])"
   ]
  },
  {
   "cell_type": "code",
   "execution_count": 10,
   "metadata": {},
   "outputs": [],
   "source": [
    "t = [threading.Thread(target=f1, args=(t1, ps)), threading.Thread(target=f1, args=(t2, ps)), threading.Thread(target=f1, args=(t3, ps))]\n",
    "for i in t:\n",
    "    i.start()\n",
    "for i in t:\n",
    "    i.join()"
   ]
  },
  {
   "cell_type": "code",
   "execution_count": 19,
   "metadata": {},
   "outputs": [
    {
     "name": "stdout",
     "output_type": "stream",
     "text": [
      "3078494e434944454e54453a0d0a2d20496e63c3aa6e64696f2041c3a7c3ba6361720d0a2d20496e63c3aa6e64696f204761736f6c696e610d0a2d2056617a616d656e746f20c3936c656f2044696573656c0d0a43415445474f52494120444f2043454ec38152494f3a0d0a2d204465737072657ac3ad76656c0d0a2d204d617267696e616c0d0a2d204372c3ad7469636f0d0a2d2043617461737472c3b36669636f0d0a504f5349c387c3834f204556454e544f3a0d0a2d20c38152454120310d0a2d20c38152454120320d0a2d20c38152454120330d0a2d20c38152454120340d0a5245435552534f53204e4543455353c38152494f533a0d0a2d20426f6d626569726f730d0a2d20c3816775610d0a2d20457370756d6120646520434f320d0a2d2050c3b3206465204dc3a1726d6f72650d0a504f5349c387c3834f205245435552534f533a0d0a2d20c38152454120310d0a2d20c38152454120320d0a2d20c38152454120330d0a2d20c38152454120340d0a54454d504f20524f5441205245435552534f2d4556454e544f3a0d0a2d20342d313a203135204d696e0d0a2d20332d313a2035204d696e\n",
      "3078494e434944454e54453a0d0a2d20496e63c3aa6e64696f2041c3a7c3ba6361720d0a2d20496e63c3aa6e64696f204761736f6c696e610d0a2d2056617a616d656e746f20c3936c656f2044696573656c0d0a43415445474f52494120444f2043454ec38152494f3a0d0a2d204465737072657ac3ad76656c0d0a2d204d617267696e616c0d0a2d204372c3ad7469636f0d0a2d2043617461737472c3b36669636f0d0a504f5349c387c3834f204556454e544f3a0d0a2d20c38152454120310d0a2d20c38152454120320d0a2d20c38152454120330d0a2d20c38152454120340d0a5245435552534f53204e4543455353c38152494f533a0d0a2d20426f6d626569726f730d0a2d20c3816775610d0a2d20457370756d6120646520434f320d0a2d2050c3b3206465204dc3a1726d6f72650d0a504f5349c387c3834f205245435552534f533a0d0a2d20c38152454120310d0a2d20c38152454120320d0a2d20c38152454120330d0a2d20c38152454120340d0a54454d504f20524f5441205245435552534f2d4556454e544f3a0d0a2d20342d313a203135204d696e0d0a2d20332d313a2035204d696e\n",
      "3078494e434944454e54453a0d0a2d20496e63c3aa6e64696f2041c3a7c3ba6361720d0a2d20496e63c3aa6e64696f204761736f6c696e610d0a2d2056617a616d656e746f20c3936c656f2044696573656c0d0a43415445474f52494120444f2043454ec38152494f3a0d0a2d204465737072657ac3ad76656c0d0a2d204d617267696e616c0d0a2d204372c3ad7469636f0d0a2d2043617461737472c3b36669636f0d0a504f5349c387c3834f204556454e544f3a0d0a2d20c38152454120310d0a2d20c38152454120320d0a2d20c38152454120330d0a2d20c38152454120340d0a5245435552534f53204e4543455353c38152494f533a0d0a2d20426f6d626569726f730d0a2d20c3816775610d0a2d20457370756d6120646520434f320d0a2d2050c3b3206465204dc3a1726d6f72650d0a504f5349c387c3834f205245435552534f533a0d0a2d20c38152454120310d0a2d20c38152454120320d0a2d20c38152454120330d0a2d20c38152454120340d0a54454d504f20524f5441205245435552534f2d4556454e544f3a0d0a2d20342d313a203135204d696e0d0a2d20332d313a2035204d696e\n",
      "3078494e434944454e54453a0d0a2d20496e63c3aa6e64696f2041c3a7c3ba6361720d0a2d20496e63c3aa6e64696f204761736f6c696e610d0a2d2056617a616d656e746f20c3936c656f2044696573656c0d0a43415445474f52494120444f2043454ec38152494f3a0d0a2d204465737072657ac3ad76656c0d0a2d204d617267696e616c0d0a2d204372c3ad7469636f0d0a2d2043617461737472c3b36669636f0d0a504f5349c387c3834f204556454e544f3a0d0a2d20c38152454120310d0a2d20c38152454120320d0a2d20c38152454120330d0a2d20c38152454120340d0a5245435552534f53204e4543455353c38152494f533a0d0a2d20426f6d626569726f730d0a2d20c3816775610d0a2d20457370756d6120646520434f320d0a2d2050c3b3206465204dc3a1726d6f72650d0a504f5349c387c3834f205245435552534f533a0d0a2d20c38152454120310d0a2d20c38152454120320d0a2d20c38152454120330d0a2d20c38152454120340d0a54454d504f20524f5441205245435552534f2d4556454e544f3a0d0a2d20342d313a203135204d696e0d0a2d20332d313a2035204d696e\n",
      "3078494e434944454e54453a0d0a2d20496e63c3aa6e64696f2041c3a7c3ba6361720d0a2d20496e63c3aa6e64696f204761736f6c696e610d0a2d2056617a616d656e746f20c3936c656f2044696573656c0d0a43415445474f52494120444f2043454ec38152494f3a0d0a2d204465737072657ac3ad76656c0d0a2d204d617267696e616c0d0a2d204372c3ad7469636f0d0a2d2043617461737472c3b36669636f0d0a504f5349c387c3834f204556454e544f3a0d0a2d20c38152454120310d0a2d20c38152454120320d0a2d20c38152454120330d0a2d20c38152454120340d0a5245435552534f53204e4543455353c38152494f533a0d0a2d20426f6d626569726f730d0a2d20c3816775610d0a2d20457370756d6120646520434f320d0a2d2050c3b3206465204dc3a1726d6f72650d0a504f5349c387c3834f205245435552534f533a0d0a2d20c38152454120310d0a2d20c38152454120320d0a2d20c38152454120330d0a2d20c38152454120340d0a54454d504f20524f5441205245435552534f2d4556454e544f3a0d0a2d20342d313a203135204d696e0d0a2d20332d313a2035204d696e\n"
     ]
    }
   ],
   "source": [
    "with open(\".log\", 'r') as f:\n",
    "    for line in f:\n",
    "        hash_ = eval(f.readline())\n",
    "        log = subprocess.check_output([\"rbiconnector\", \"-f\", \"config.json\", \"get-transaction\", \"--tx-hash\", hash_[\"data\"]])\n",
    "        data = eval(log)\n",
    "        print(bytes.fromhex(data[\"data\"][\"input\"]).decode(\"utf-8\"))\n",
    "        #print(data[\"data\"][\"input\"][2:])"
   ]
  },
  {
   "cell_type": "code",
   "execution_count": null,
   "metadata": {},
   "outputs": [],
   "source": []
  }
 ],
 "metadata": {
  "kernelspec": {
   "display_name": "Python 3",
   "language": "python",
   "name": "python3"
  },
  "language_info": {
   "codemirror_mode": {
    "name": "ipython",
    "version": 3
   },
   "file_extension": ".py",
   "mimetype": "text/x-python",
   "name": "python",
   "nbconvert_exporter": "python",
   "pygments_lexer": "ipython3",
   "version": "3.7.5"
  }
 },
 "nbformat": 4,
 "nbformat_minor": 4
}
